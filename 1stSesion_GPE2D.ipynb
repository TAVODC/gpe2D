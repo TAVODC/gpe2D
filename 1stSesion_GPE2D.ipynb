{
 "cells": [
  {
   "cell_type": "markdown",
   "metadata": {},
   "source": [
    "# GP 2D Equation"
   ]
  },
  {
   "cell_type": "markdown",
   "metadata": {},
   "source": [
    "Given the mean-field aproximation to N boson F=1 weakly interacting at $T=0$, we can write the following energy functional: \n",
    "\n",
    "\\begin{equation}\n",
    "\\begin{split}E[\\hat\\Psi] &= \\iiint d^3r \\bigg[ \\frac{1}{2}\\nabla\\Psi_m^*\\cdot\\nabla\\Psi_m^{\\,}+\\frac{V_{ext}(\\vec{r})}{\\epsilon}\\Psi_m^* \\Psi_m^{\\,}  \\\\&+\\frac{c_0}{2}\\Psi_m^* \\Psi_m^{\\,}\\Psi_n^* \\Psi_n^{\\,} + \\frac{c_2}{2}\\Psi_m^* \\vec F_{mn}^{\\,} \\Psi_n^{\\,} \\cdot \\Psi_l^* \\vec F_{lk} \\Psi_k^{\\,}\\\\ &+p \\vec{B}\\cdot \\Psi_n^* \\vec{F}_{nm}^{\\,}\\Psi_m^{\\,}+q \\Psi_n^* \\big[(\\vec{B}\\cdot\\vec{F})^2\\big]_{nm}\\Psi_m^{\\,} \\bigg] \\end{split}\n",
    "\\end{equation}"
   ]
  },
  {
   "cell_type": "markdown",
   "metadata": {},
   "source": [
    "$m=-1,0,1$"
   ]
  },
  {
   "cell_type": "markdown",
   "metadata": {
    "collapsed": true
   },
   "source": [
    "$$\\text{Unidad de energia:  }\\epsilon = \\hbar \\omega$$ \n",
    "\n",
    "$$\\text{Unidad de tiempo:  }\\tilde{t}=\\frac{1}{\\omega}$$\n",
    "\n",
    "$$\\text{Unidad de longitud:  }\\ell_0 = \\sqrt{\\frac{\\hbar}{m\\omega}}$$"
   ]
  },
  {
   "cell_type": "markdown",
   "metadata": {},
   "source": [
    "$c_0 = \\frac{g_0+2g_2}{3}$ y $c_1 = \\frac{g_2-g_0}{3}$, $g_i = 4\\pi N \\frac{a_i}{\\ell_0}$\n"
   ]
  },
  {
   "cell_type": "markdown",
   "metadata": {},
   "source": [
    ", assuming just one spin proyection distinct from zero, absence of external magnetic field, and an optical trapping given by $V_{ext}$"
   ]
  },
  {
   "cell_type": "markdown",
   "metadata": {},
   "source": [
    "$$ \\Psi_m^* \\vec F_{mn}^{\\,} \\Psi_n^{\\,} \\cdot \\Psi_l^* \\vec F_{lk} \\Psi_k^{\\,} = 2\\big( \\Psi_0\\Psi_0\\Psi_1^*\\Psi_{-1}^* + \\Psi_0^*\\Psi_0^*\\Psi_1\\Psi_{-1} + |\\Psi_0|^2|\\Psi_1|^2 +|\\Psi_0|^2|\\Psi_{-1}|^2\\big)  + (|\\Psi_{1}|^2-|\\Psi_{-1}|^2)^2  $$"
   ]
  },
  {
   "cell_type": "markdown",
   "metadata": {},
   "source": [
    "\\begin{equation}\n",
    "\\begin{split}E[\\Psi_0] &= \\iiint d^3r \\bigg[ \\frac{1}{2}\\nabla\\Psi_0^*\\cdot\\nabla\\Psi_0^{\\,}+\\tilde{V}_{ext}(\\vec{r})\\Psi_0^* \\Psi_0^{\\,}  \\\\&+\\frac{c_0}{2}\\Psi_0^* \\Psi_0^{\\,}\\Psi_0^* \\Psi_0^{\\,} \\bigg] \\end{split}\n",
    "\\end{equation}"
   ]
  },
  {
   "cell_type": "markdown",
   "metadata": {},
   "source": [
    "\\begin{equation}\n",
    "\\begin{split}E[\\Psi_{\\pm1}] &= \\iiint d^3r \\bigg[ \\frac{1}{2}\\nabla\\Psi_{\\pm1}^*\\cdot\\nabla\\Psi_{\\pm1}^{\\,}+\\tilde{V}_{ext}(\\vec{r})\\Psi_{\\pm1}^* \\Psi_{\\pm1}^{\\,}  \\\\&+\\frac{c_0+c_2}{2}\\Psi_{\\pm1}^* \\Psi_{\\pm1}^{\\,}\\Psi_{\\pm1}^* \\Psi_{\\pm1}^{\\,}\\bigg] \\end{split}\n",
    "\\end{equation}"
   ]
  },
  {
   "cell_type": "markdown",
   "metadata": {},
   "source": [
    "finally suppose a z-direction confinment greater than on x,y-directions,  such that $\\tilde{V}_{ext}=V_{ext}/\\epsilon \\approx \\frac{1}{2} \\gamma_z^2 z^2 + v_{2d}(x,y)/\\epsilon$, $\\gamma_z= \\frac{\\omega_z}{\\omega}>>1$"
   ]
  },
  {
   "cell_type": "markdown",
   "metadata": {},
   "source": [
    "con $g_{2D}=(c_0+c_2) \\sqrt{\\frac{\\gamma_z}{2\\pi}} , \\,c_0\\sqrt{\\frac{\\gamma_z}{2\\pi}}$, [Ref0](http://www3.physics.ox.ac.uk/groups/qubit/fetch.asp?url=groupwebsite/papers/paper103.pdf)"
   ]
  },
  {
   "cell_type": "markdown",
   "metadata": {},
   "source": [
    "Applying Euler-Lagrange we obtain the dynamical equation for $\\Psi$  $$\\frac{\\delta E_{2D}}{\\delta \\Psi}=i\\frac{\\partial\\Psi}{\\partial t}= -\\frac{\\partial\\Psi}{\\partial \\tau}$$\n",
    "\n",
    "$$i\\frac{\\partial\\Psi}{\\partial t} = -\\frac{1}{2}\\nabla^2 \\Psi +\\tilde{v}_{2D}\\Psi+ g_{2D}|\\Psi|^2\\Psi$$\n",
    "\n",
    "$$\\iint dxdy |\\Psi|^2 = 1$$"
   ]
  },
  {
   "cell_type": "markdown",
   "metadata": {},
   "source": [
    "To find stationary states we use:\n",
    "$\\Psi^{\\,}(\\vec{r},t) = \\phi (\\vec{r})e^{-i\\mu t}$\n",
    "\n",
    "$$\\frac{\\delta E_{2D}}{\\delta \\Psi} = -\\frac {\\partial \\Psi}{\\partial \\tau}=\\mu\\phi(\\vec{r})e^{-\\mu\\tau} \\rightarrow^{\\tau \\rightarrow \\infty} 0$$ for $\\mu>0$\n",
    " and $\\tau = it$"
   ]
  },
  {
   "cell_type": "markdown",
   "metadata": {},
   "source": [
    "In principle propagating an initial condition in imaginary time, gavi us to stationary states. To propagate in imaginary time we can use sevaral methods: split-operator, cranck-nicholson, RK-4, Euler, ... in combination with discrete space diferential schemes like: finite diferences, spectral fourier evaluation, finite elment, ...\n",
    "\n",
    "But, in practice we should have to choose the chipest method in time and memory that give us the best aproximation in space, but no necesarily in time. Because we rent interested in the evolution but just in fastet convergence and the space configuration."
   ]
  },
  {
   "cell_type": "markdown",
   "metadata": {},
   "source": [
    "In my opinion **split operator (time) + spectral (space)** or **euler (time) + spectral (space) + tricks**"
   ]
  },
  {
   "cell_type": "markdown",
   "metadata": {},
   "source": [
    "# Relaxation method : Euler (time)+FFT(Space)+Tricks(Sobolev Gradients)!"
   ]
  },
  {
   "cell_type": "markdown",
   "metadata": {},
   "source": [
    "## Dicretization [Ref1](http://dx.doi.org/10.1016/j.cpc.2008.12.003) "
   ]
  },
  {
   "cell_type": "markdown",
   "metadata": {},
   "source": [
    "Taking $\\frac{\\partial \\Psi(x,y,\\tau)}{\\partial \\tau} \\approx \\frac{\\Psi(x,y,\\tau+\\Delta \\tau)-\\Psi(x,y,\\tau)}{\\Delta \\tau}$, Dicretizing space as $x_i=x_{min}+iL_x/N_x, \\, i=0,1,..,N_x,\\, L_x = x_{max}-x_{min}$ and similar for y-direction.\n",
    "\n",
    "\n",
    "Then $$\\Psi(x_i,y_j,\\tau+\\Delta \\tau) = \\Psi_{i,j}^{\\tau+1}$$"
   ]
  },
  {
   "cell_type": "markdown",
   "metadata": {},
   "source": [
    "Defining $$FFT(\\Psi_{i,j}^\\tau)=\\tilde{\\Psi}_{k_i,k_j}^\\tau$$, in space"
   ]
  },
  {
   "cell_type": "markdown",
   "metadata": {},
   "source": [
    "$$\\frac{\\partial\\Psi}{\\partial \\tau} = \\frac{1}{2}\\nabla^2 \\Psi -\\tilde{v}_{2D}\\Psi- g_{2D}|\\Psi|^2\\Psi \\,\\,\\, (\\text {imaginary time})$$\n",
    "and discretizing we get:\n",
    "$$\\frac{\\Psi_{i,j}^{\\tau+1}-\\Psi_{i,j}^{\\tau}}{\\Delta \\tau} = \\frac{1}{2}\\tilde{\\nabla}^2 \\Psi_{i,j}^{\\tau+1} -\\tilde{v}_{i,j}\\Psi_{i,j}^{\\tau}- g_{2D}|\\Psi_{i,j}^{\\tau}|^2\\Psi_{i,j}^{\\tau} + \\alpha(\\Psi_{i,j}^{\\tau}-\\Psi_{i,j}^{\\tau+1})$$\n"
   ]
  },
  {
   "cell_type": "markdown",
   "metadata": {},
   "source": [
    "taking FFT of both sides we get:\n",
    "    \n",
    "$$\\frac{\\tilde{\\Psi}_{k_i,k_j}^{\\tau+1}-\\tilde{\\Psi}_{k_i,k_j}^\\tau}{\\Delta \\tau} = -\\frac{1}{2}(k_i^2+k_j^2+2\\alpha)\\tilde{\\Psi}_{k_i,k_j}^{\\tau+1} -FFT(\\tilde{v}_{i,j}\\Psi_{i,j}^{\\tau}+ g_{2D}|\\Psi_{i,j}^{\\tau}|^2\\Psi_{i,j}^{\\tau}-\\alpha\\Psi_{i,j}^{\\tau})_{k_i,k_j} $$"
   ]
  },
  {
   "cell_type": "markdown",
   "metadata": {},
   "source": [
    "$$\\tilde{\\Psi}_{k_i,k_j}^{\\tau+1} = \\frac{1}{1+\\frac{1}{2}\\Delta \\tau(k_i^2+k_j^2+2\\alpha) }\\big[\\tilde{\\Psi}_{k_i,k_j}^\\tau -\\Delta \\tau FFT(\\tilde{v}_{i,j}\\Psi_{i,j}^{\\tau}+ g_{2D}|\\Psi_{i,j}^{\\tau}|^2\\Psi_{i,j}^{\\tau}-\\alpha\\Psi_{i,j}^{\\tau})_{k_i,k_j} \\big]$$\n",
    "\n",
    "$$\\Psi_{i,j}^{\\tau+1} = \\frac{IFFT(\\tilde{\\Psi}_{k_i,k_j}^{\\tau+1})}{||IFFT(\\tilde{\\Psi}_{k_i,k_j}^{\\tau+1})||}$$"
   ]
  },
  {
   "cell_type": "markdown",
   "metadata": {},
   "source": [
    "$$\\tilde{v}_{i,j} = \\frac{1}{2}(\\gamma_x^2 x_i^2+\\gamma_y^2 y_j^2)$$"
   ]
  },
  {
   "cell_type": "code",
   "execution_count": 2,
   "metadata": {
    "collapsed": false
   },
   "outputs": [
    {
     "name": "stdout",
     "output_type": "stream",
     "text": [
      "Populating the interactive namespace from numpy and matplotlib\n"
     ]
    }
   ],
   "source": [
    "%pylab inline"
   ]
  },
  {
   "cell_type": "code",
   "execution_count": 3,
   "metadata": {
    "collapsed": true
   },
   "outputs": [],
   "source": [
    "# Precision\n",
    "prec = float32 #In CUDA is imprtant the type\n",
    "precComplex = complex64\n",
    "cuPrec = 'float'\n",
    "cString = 'f'\n",
    "\n",
    "# Box\n",
    "Nx = Ny = int32(256)\n",
    "Lx = Ly = prec(12.8*2) #At hand!\n",
    "x_min , y_min = prec(-Lx/2.0) , prec(-Ly/2.0)\n",
    "dx =prec( Lx/(Nx-1))\n",
    "dy = prec(Ly/(Ny-1))\n",
    "dx,dy\n",
    "\n",
    "# System \n",
    "g=prec(70 * sqrt(200/(pi)))#Colmillo!\n",
    "a = prec(200)\n",
    "dtau = prec(0.001)\n",
    "gammaX = prec(1.0)\n",
    "gammaY = prec(0.85)"
   ]
  },
  {
   "cell_type": "markdown",
   "metadata": {},
   "source": [
    "### [PyCUDA](https://documen.tician.de/pycuda/)"
   ]
  },
  {
   "cell_type": "code",
   "execution_count": 4,
   "metadata": {
    "collapsed": true
   },
   "outputs": [],
   "source": [
    "from pycuda import gpuarray\n",
    "from pycuda import autoinit"
   ]
  },
  {
   "cell_type": "code",
   "execution_count": 5,
   "metadata": {
    "collapsed": true
   },
   "outputs": [],
   "source": [
    "from pycuda.compiler import SourceModule #Functions in CUDA"
   ]
  },
  {
   "cell_type": "code",
   "execution_count": 6,
   "metadata": {
    "collapsed": true
   },
   "outputs": [],
   "source": [
    "# Review\n",
    "def compileGPU(stringKernel): #Specific function\n",
    "    stringKernel = stringKernel.replace('cudaPres', cuPrec)\n",
    "    stringKernel = stringKernel.replace('cString', cString)\n",
    "    return SourceModule(stringKernel)"
   ]
  },
  {
   "cell_type": "markdown",
   "metadata": {},
   "source": [
    "## $$\\Psi_{i,j}^0$$"
   ]
  },
  {
   "cell_type": "markdown",
   "metadata": {},
   "source": [
    "### Luis check NUMPY!"
   ]
  },
  {
   "cell_type": "code",
   "execution_count": 7,
   "metadata": {
    "collapsed": true
   },
   "outputs": [],
   "source": [
    "PSI_cpu = zeros([Nx,Ny],dtype=precComplex)# Numpy Array\n",
    "PSI_gpu = gpuarray.to_gpu(PSI_cpu) #Array in CUDA\n",
    "PSIaux_gpu = gpuarray.to_gpu(PSI_cpu)"
   ]
  },
  {
   "cell_type": "code",
   "execution_count": 9,
   "metadata": {
    "collapsed": false
   },
   "outputs": [
    {
     "data": {
      "text/plain": [
       "(numpy.ndarray, pycuda.gpuarray.GPUArray)"
      ]
     },
     "execution_count": 9,
     "metadata": {},
     "output_type": "execute_result"
    }
   ],
   "source": [
    "type(PSI_cpu),type(PSI_gpu)"
   ]
  },
  {
   "cell_type": "code",
   "execution_count": 10,
   "metadata": {
    "collapsed": true
   },
   "outputs": [],
   "source": [
    "from pycuda import curandom\n",
    "cudarandom = curandom.XORWOWRandomNumberGenerator() #x60! , see pycuda Docs!\n",
    "real_gpu = cudarandom.gen_uniform([Nx,Ny],prec) # Random GPU array\n",
    "imag_gpu = cudarandom.gen_uniform([Nx,Ny],prec)"
   ]
  },
  {
   "cell_type": "code",
   "execution_count": 11,
   "metadata": {
    "collapsed": false
   },
   "outputs": [
    {
     "data": {
      "text/plain": [
       "pycuda.gpuarray.GPUArray"
      ]
     },
     "execution_count": 11,
     "metadata": {},
     "output_type": "execute_result"
    }
   ],
   "source": [
    "type(real_gpu)"
   ]
  },
  {
   "cell_type": "markdown",
   "metadata": {},
   "source": [
    "## [CUDA y PyCUDA intro](https://github.com/zamorays/Servicio_social), [PyCUDA functions](https://github.com/zamorays/miniCursoPycuda)"
   ]
  },
  {
   "cell_type": "code",
   "execution_count": 12,
   "metadata": {
    "collapsed": true
   },
   "outputs": [],
   "source": [
    "# Distributing work in threads\n",
    "blockDims=(32,32,1) # Threads in Block FREE\n",
    "if blockDims[0]*blockDims[1] < 1024: # GPU architecture\n",
    "    print 'Max threads per block are 1024'\n",
    "    raise Exception('Max threads per block are 1024')\n",
    "    \n",
    "gridDims = (Nx//blockDims[0]+1*(Nx%blockDims[0]!=0),\n",
    "           Ny//blockDims[1]+1*(Ny%blockDims[1]!=0),1)"
   ]
  },
  {
   "cell_type": "code",
   "execution_count": 13,
   "metadata": {
    "collapsed": false
   },
   "outputs": [
    {
     "data": {
      "text/plain": [
       "((32, 32, 1), (8, 8, 1))"
      ]
     },
     "execution_count": 13,
     "metadata": {},
     "output_type": "execute_result"
    }
   ],
   "source": [
    "blockDims, gridDims"
   ]
  },
  {
   "cell_type": "markdown",
   "metadata": {},
   "source": [
    "$$\\Psi_{i,j}^0=e^{-\\gamma_x^2 x_i^2-\\gamma_y^2 y_j^2}(1+\\delta_r+i(1+\\delta_i)), \\, \\delta\\in[-0.5,0.5]$$"
   ]
  },
  {
   "cell_type": "code",
   "execution_count": 14,
   "metadata": {
    "collapsed": true
   },
   "outputs": [],
   "source": [
    "initKernel = '''\n",
    "      #include <pycuda-complex.hpp>\n",
    "      __global__ void curandinitComplex_kernel( cudaPres dx, cudaPres dy,\n",
    "      cudaPres xMin, cudaPres yMin, \n",
    "      cudaPres gammaX, cudaPres gammaY, \n",
    "      cudaPres *rndReal, cudaPres *rndImag,  pycuda::complex<cudaPres> *psi){\n",
    "      // Index for thread\n",
    "      int t_i = blockIdx.x*blockDim.x + threadIdx.x;\n",
    "      int t_j = blockIdx.y*blockDim.y + threadIdx.y;\n",
    "      int tid = gridDim.y * blockDim.y * t_i  + t_j;\n",
    "      // Indices to coordinates\n",
    "      cudaPres x = t_i*dx + xMin;\n",
    "      cudaPres y = t_j*dy + yMin;\n",
    "      pycuda::complex<cudaPres> auxC;\n",
    "      cudaPres aux = exp(-gammaX*gammaX*x*x-gammaY*gammaY*y*y);\n",
    "      auxC._M_re = aux + aux*(rndReal[tid]-0.5cString);\n",
    "      auxC._M_im = aux + aux*(rndImag[tid]-0.5cString);\n",
    "      psi[tid] = auxC;\n",
    "      }\n",
    "'''"
   ]
  },
  {
   "cell_type": "code",
   "execution_count": 16,
   "metadata": {
    "collapsed": false
   },
   "outputs": [],
   "source": [
    "initKernel = initKernel.replace('cudaPres', cuPrec)\n",
    "initKernel = initKernel.replace('cString', cString)"
   ]
  },
  {
   "cell_type": "code",
   "execution_count": 17,
   "metadata": {
    "collapsed": false
   },
   "outputs": [
    {
     "name": "stdout",
     "output_type": "stream",
     "text": [
      "\n",
      "      #include <pycuda-complex.hpp>\n",
      "      __global__ void curandinitComplex_kernel( float dx, float dy,\n",
      "      float xMin, float yMin, \n",
      "      float gammaX, float gammaY, \n",
      "      float *rndReal, float *rndImag,  pycuda::complex<float> *psi){\n",
      "      // Index for thread\n",
      "      int t_i = blockIdx.x*blockDim.x + threadIdx.x;\n",
      "      int t_j = blockIdx.y*blockDim.y + threadIdx.y;\n",
      "      int tid = gridDim.y * blockDim.y * t_i  + t_j;\n",
      "      // Indices to coordinates\n",
      "      float x = t_i*dx + xMin;\n",
      "      float y = t_j*dy + yMin;\n",
      "      pycuda::complex<float> auxC;\n",
      "      float aux = exp(-gammaX*gammaX*x*x-gammaY*gammaY*y*y);\n",
      "      auxC._M_re = aux + aux*(rndReal[tid]-0.5f);\n",
      "      auxC._M_im = aux + aux*(rndImag[tid]-0.5f);\n",
      "      psi[tid] = auxC;\n",
      "      }\n",
      "\n"
     ]
    }
   ],
   "source": [
    "print initKernel"
   ]
  },
  {
   "cell_type": "code",
   "execution_count": 18,
   "metadata": {
    "collapsed": true
   },
   "outputs": [],
   "source": [
    "cudaCompile = SourceModule(initKernel)"
   ]
  },
  {
   "cell_type": "code",
   "execution_count": 19,
   "metadata": {
    "collapsed": false
   },
   "outputs": [
    {
     "data": {
      "text/plain": [
       "pycuda._driver.Function"
      ]
     },
     "execution_count": 19,
     "metadata": {},
     "output_type": "execute_result"
    }
   ],
   "source": [
    "initGPU = cudaCompile.get_function( \"curandinitComplex_kernel\" )\n",
    "type(initGPU)"
   ]
  },
  {
   "cell_type": "code",
   "execution_count": 20,
   "metadata": {
    "collapsed": false
   },
   "outputs": [
    {
     "data": {
      "text/plain": [
       "<pycuda._driver.Function at 0x7fc33977ede8>"
      ]
     },
     "execution_count": 20,
     "metadata": {},
     "output_type": "execute_result"
    }
   ],
   "source": [
    "initGPU.prepare(cString*6+'PPP')"
   ]
  },
  {
   "cell_type": "code",
   "execution_count": 21,
   "metadata": {
    "collapsed": false
   },
   "outputs": [
    {
     "data": {
      "text/plain": [
       "'ffffffPPP'"
      ]
     },
     "execution_count": 21,
     "metadata": {},
     "output_type": "execute_result"
    }
   ],
   "source": [
    "cString*6+'PPP'"
   ]
  },
  {
   "cell_type": "code",
   "execution_count": 26,
   "metadata": {
    "collapsed": false
   },
   "outputs": [],
   "source": [
    "# Calling function, executing\n",
    "initGPU.prepared_call(gridDims, blockDims,\n",
    "                      prec(dx),prec(dy),\n",
    "                     prec(x_min),prec(y_min),\n",
    "                     prec(gammaX),prec(gammaY),\n",
    "                     real_gpu.gpudata,imag_gpu.gpudata,PSI_gpu.gpudata)"
   ]
  },
  {
   "cell_type": "code",
   "execution_count": 27,
   "metadata": {
    "collapsed": false
   },
   "outputs": [
    {
     "data": {
      "text/plain": [
       "<pycuda._driver.DeviceAllocation at 0x7fc31b892c90>"
      ]
     },
     "execution_count": 27,
     "metadata": {},
     "output_type": "execute_result"
    }
   ],
   "source": [
    "real_gpu.gpudata"
   ]
  },
  {
   "cell_type": "code",
   "execution_count": 28,
   "metadata": {
    "collapsed": true
   },
   "outputs": [],
   "source": [
    "def plotState(psi):\n",
    "    f,ax = subplots(1,1, figsize=(12,12))\n",
    "    dens = ax.imshow(psi,extent=[x_min,x_min+dx*Nx,y_min,y_min+dy*Ny], cmap='magma', origin='lower')\n",
    "    colorbar(dens)"
   ]
  },
  {
   "cell_type": "code",
   "execution_count": 29,
   "metadata": {
    "collapsed": false
   },
   "outputs": [
    {
     "data": {
      "image/png": "[encoded data removed]",
      "text/plain": [
       "<matplotlib.figure.Figure at 0x7fc31b887850>"
      ]
     },
     "metadata": {},
     "output_type": "display_data"
    }
   ],
   "source": [
    "plotState(abs(PSI_gpu.get()))"
   ]
  },
  {
   "cell_type": "markdown",
   "metadata": {},
   "source": [
    "## [PyFFT](http://pythonhosted.org/pyfft/)"
   ]
  },
  {
   "cell_type": "code",
   "execution_count": 30,
   "metadata": {
    "collapsed": true
   },
   "outputs": [],
   "source": [
    "from pyfft.cuda import Plan ## FFT in CUDA"
   ]
  },
  {
   "cell_type": "code",
   "execution_count": 31,
   "metadata": {
    "collapsed": true
   },
   "outputs": [],
   "source": [
    "gpuFFT = Plan((Nx,Ny),dtype=precComplex)"
   ]
  },
  {
   "cell_type": "markdown",
   "metadata": {},
   "source": [
    "## $$\\tilde{\\Psi}_{k_i,k_j}^0 = FFT(\\Psi_{i,j}^0)$$"
   ]
  },
  {
   "cell_type": "code",
   "execution_count": 32,
   "metadata": {
    "collapsed": true
   },
   "outputs": [],
   "source": [
    "gpuFFT.execute(PSI_gpu,PSIaux_gpu)"
   ]
  },
  {
   "cell_type": "markdown",
   "metadata": {},
   "source": [
    "## $$\\tilde{\\Psi}_{k_i,k_j}^{\\tau+1} = \\frac{1}{1+\\frac{1}{2}\\Delta \\tau(k_i^2+k_j^2+2\\alpha) }\\big[\\tilde{\\Psi}_{k_i,k_j}^\\tau -\\Delta \\tau FFT(\\tilde{v}_{i,j}\\Psi_{i,j}^{\\tau}+ g_{2D}|\\Psi_{i,j}^{\\tau}|^2\\Psi_{i,j}^{\\tau}-\\alpha\\Psi_{i,j}^{\\tau})_{k_i,k_j} \\big]$$"
   ]
  },
  {
   "cell_type": "code",
   "execution_count": 34,
   "metadata": {
    "collapsed": true
   },
   "outputs": [],
   "source": [
    "relax = '''\n",
    "#include <pycuda-complex.hpp>\n",
    "#define pi 3.14159265\n",
    "#define phi 1.6180339\n",
    "#include <stdio.h>\n",
    "\n",
    "__device__ cudaPres KspaceFFT(int tid, int nPoint, cudaPres L){\n",
    "cudaPres Kfft;\n",
    "if (tid < nPoint/2){\n",
    "  Kfft = 2.0f*pi*(tid)/L;\n",
    "  }\n",
    "else {\n",
    "Kfft = 2.0f*pi*(tid-nPoint)/L;\n",
    "}\n",
    "return Kfft;\n",
    "}\n",
    "\n",
    "__global__ void getAlphas_kernel( cudaPres dx, cudaPres dy, \n",
    "cudaPres xMin, cudaPres yMin, \n",
    "cudaPres gammaX, cudaPres gammaY,   cudaPres constG,\n",
    "pycuda::complex<cudaPres> *psi1, pycuda::complex<cudaPres> *alphas){\n",
    "int t_i = blockIdx.x*blockDim.x + threadIdx.x;\n",
    "int t_j = blockIdx.y*blockDim.y + threadIdx.y;\n",
    "int tid = gridDim.y * blockDim.y * t_i  + t_j;\n",
    "cudaPres result = 0.0;\n",
    "cudaPres ri = t_i*dx + xMin;\n",
    "result += 0.5*gammaX*gammaX*ri*ri;\n",
    "\n",
    "ri = t_j*dy + yMin;\n",
    "result += 0.5*gammaY*gammaY*ri*ri;\n",
    "\n",
    "ri = abs(psi1[tid]);\n",
    "alphas[tid] =  result + constG*ri*ri;\n",
    "\n",
    "}\n",
    "\n",
    "__global__ void implicitStep1_kernel( cudaPres xMin, cudaPres yMin, cudaPres dx, cudaPres dy,  \n",
    "cudaPres alpha,  cudaPres gammaX, cudaPres gammaY, cudaPres constG,\n",
    " pycuda::complex<cudaPres> *psi1_d){\n",
    "int t_i = blockIdx.x*blockDim.x + threadIdx.x;\n",
    "int t_j = blockIdx.y*blockDim.y + threadIdx.y;\n",
    "int tid = gridDim.y * blockDim.y * t_i  + t_j;\n",
    "\n",
    "cudaPres result = 0.0;\n",
    "cudaPres ri = t_i*dx + xMin;\n",
    "result += 0.5*gammaX*gammaX*ri*ri;\n",
    "\n",
    "ri = t_j*dy + yMin;\n",
    "result += 0.5*gammaY*gammaY*ri*ri;\n",
    "\n",
    "pycuda::complex<cudaPres> psi1; //,Vtrap,torque;//psi1, psi2, psi3, partialX, partialY, Vtrap, torque, lz, result;\n",
    "\n",
    "psi1 = psi1_d[tid];\n",
    "ri = abs(psi1);\n",
    "result *= -1;\n",
    "result += alpha;\n",
    "result -= constG*ri*ri;\n",
    "\n",
    "psi1_d[tid] = psi1*result;\n",
    "}\n",
    "\n",
    "__global__ void implicitStep2_kernel( cudaPres dt, cudaPres alpha, \n",
    "int nPointX, int nPointY,  cudaPres Lx, cudaPres Ly, \n",
    "pycuda::complex<cudaPres> *psiTransf, pycuda::complex<cudaPres> *GTranf){\n",
    "int t_i = blockIdx.x*blockDim.x + threadIdx.x;\n",
    "int t_j = blockIdx.y*blockDim.y + threadIdx.y;\n",
    "int tid = gridDim.y * blockDim.y * t_i  + t_j;\n",
    "\n",
    "cudaPres k2 = 0.0;\n",
    "cudaPres kAux = KspaceFFT(t_i,nPointX, Lx);//kx[t_j];\n",
    "k2 += kAux*kAux;\n",
    "kAux = KspaceFFT(t_j,nPointY, Ly);//ky[t_i];\n",
    "k2 += kAux*kAux;\n",
    "\n",
    "pycuda::complex<cudaPres> factor, psiT, Gt;\n",
    "// factor = 2.0 / ( 2.0 + dt*(k2 + 2.0*alpha) );\n",
    "kAux = 2.0 / ( 2.0 + dt*(k2 + 2.0*alpha) );\n",
    "psiT = psiTransf[tid];\n",
    "Gt = GTranf[tid];\n",
    "psiTransf[tid] = kAux * ( psiT + Gt*dt);\n",
    "\n",
    "}\n",
    "\n",
    "'''"
   ]
  },
  {
   "cell_type": "code",
   "execution_count": 35,
   "metadata": {
    "collapsed": true
   },
   "outputs": [],
   "source": [
    "relaxK = compileGPU(relax)"
   ]
  },
  {
   "cell_type": "code",
   "execution_count": 36,
   "metadata": {
    "collapsed": true
   },
   "outputs": [],
   "source": [
    "step1 =relaxK.get_function('implicitStep1_kernel')\n",
    "step2 =relaxK.get_function('implicitStep2_kernel')\n",
    "getAlphas = relaxK.get_function('getAlphas_kernel')"
   ]
  },
  {
   "cell_type": "code",
   "execution_count": 37,
   "metadata": {
    "collapsed": false
   },
   "outputs": [
    {
     "data": {
      "text/plain": [
       "<pycuda._driver.Function at 0x7fc33831e320>"
      ]
     },
     "execution_count": 37,
     "metadata": {},
     "output_type": "execute_result"
    }
   ],
   "source": [
    "step1.prepare('ffffffffP')#cudaPres xMin, cudaPres yMin, cudaPres dx, cudaPres dy,  \n",
    "#cudaPres alpha,  cudaPres gammaX, cudaPres gammaY, cudaPres constG,\n",
    "# pycuda::complex<cudaPres> *psi1_d\n",
    "step2.prepare('ffiiffPP')#cudaPres dt, cudaPres alpha, \n",
    "#int nPointX, int nPointY,  cudaPres Lx, cudaPres Ly, \n",
    "#pycuda::complex<cudaPres> *psiTransf, pycuda::complex<cudaPres> *GTranf\n",
    "getAlphas.prepare('fffffffPP') #cudaPres dx, cudaPres dy, \n",
    "#cudaPres xMin, cudaPres yMin, \n",
    "#cudaPres gammaX, cudaPres gammaY,  cudaPres constG,\n",
    "#pycuda::complex<cudaPres> *psi1, pycuda::complex<cudaPres> *alphas"
   ]
  },
  {
   "cell_type": "markdown",
   "metadata": {},
   "source": [
    "## $$\\tilde{v}_{i,j}\\Psi_{i,j}^{\\tau}+ g_{2D}|\\Psi_{i,j}^{\\tau}|^2\\Psi_{i,j}^{\\tau}-\\alpha\\Psi_{i,j}^{\\tau}$$"
   ]
  },
  {
   "cell_type": "code",
   "execution_count": 38,
   "metadata": {
    "collapsed": true
   },
   "outputs": [],
   "source": [
    "step1.prepared_call(gridDims, blockDims,x_min,y_min, \n",
    "                    dx,dy,a,gammaX,gammaY,\n",
    "                    g,PSI_gpu.gpudata) # Optimizing GPU memory"
   ]
  },
  {
   "cell_type": "code",
   "execution_count": 39,
   "metadata": {
    "collapsed": true
   },
   "outputs": [],
   "source": [
    "gpuFFT.execute(PSI_gpu)"
   ]
  },
  {
   "cell_type": "markdown",
   "metadata": {},
   "source": [
    "## $$\\tilde{\\Psi}_{k_i,k_j}^{\\tau+1} = \\frac{1}{1+\\frac{1}{2}\\Delta \\tau(k_i^2+k_j^2+2\\alpha) }\\big[\\tilde{\\Psi}_{k_i,k_j}^\\tau -\\Delta \\tau FFT(\\tilde{v}_{i,j}\\Psi_{i,j}^{\\tau}+ g_{2D}|\\Psi_{i,j}^{\\tau}|^2\\Psi_{i,j}^{\\tau}-\\alpha\\Psi_{i,j}^{\\tau})_{k_i,k_j} \\big]$$"
   ]
  },
  {
   "cell_type": "code",
   "execution_count": 40,
   "metadata": {
    "collapsed": true
   },
   "outputs": [],
   "source": [
    "step2.prepared_call(gridDims, blockDims, dtau, a, Nx, Ny, Lx,Ly,\n",
    "                    PSIaux_gpu.gpudata, PSI_gpu.gpudata)"
   ]
  },
  {
   "cell_type": "markdown",
   "metadata": {},
   "source": [
    "## $$IFFT(\\tilde{\\Psi}_{k_i,k_j}^{1})$$"
   ]
  },
  {
   "cell_type": "code",
   "execution_count": 41,
   "metadata": {
    "collapsed": true
   },
   "outputs": [],
   "source": [
    "gpuFFT.execute(PSIaux_gpu,PSI_gpu,inverse=True)"
   ]
  },
  {
   "cell_type": "markdown",
   "metadata": {},
   "source": [
    "## $$\\Psi_{i,j}^{1} = \\frac{IFFT(\\tilde{\\Psi}_{k_i,k_j}^{1})}{||IFFT(\\tilde{\\Psi}_{k_i,k_j}^{1})||}$$"
   ]
  },
  {
   "cell_type": "code",
   "execution_count": 53,
   "metadata": {
    "collapsed": true
   },
   "outputs": [],
   "source": [
    "# PyCUDA nice functions!\n",
    "from pycuda.elementwise import ElementwiseKernel\n",
    "mult_C = ElementwiseKernel(arguments=\"{0} a, pycuda::complex<{0}> *psi\".format( cuPrec ),\n",
    "\t\t\t\toperation = \"psi[i] = a*psi[i] \",\n",
    "\t\t\t\tname = \"multiplyByFloat_kernel\",\n",
    "\t\t\t\tpreamble=\"#include <pycuda-complex.hpp>\")\n",
    "from pycuda.reduction import ReductionKernel\n",
    "get_Norm_C = ReductionKernel( prec,\n",
    "\t\t\t\tneutral = \"0\",\n",
    "\t\t\t\targuments=\" {0} dx, {0} dy,  pycuda::complex<{0}> * psi \".format(cuPrec),\n",
    "\t\t\t\tmap_expr = \"( conj(psi[i])* psi[i] )._M_re*dx*dy\",\n",
    "\t\t\t\treduce_expr = \"a+b\",\n",
    "\t\t\t\tname = \"getNorm_kernel\",\n",
    "\t\t\t\tpreamble=\"#include <pycuda-complex.hpp>\")"
   ]
  },
  {
   "cell_type": "code",
   "execution_count": 54,
   "metadata": {
    "collapsed": true
   },
   "outputs": [],
   "source": [
    "# My function to normalize\n",
    "def normalizeGPU(psiGPU):\n",
    "    norm = get_Norm_C(dx,dy,psiGPU).get()\n",
    "    norm = 1/sqrt(norm)\n",
    "    mult_C(norm,psiGPU)\n",
    "    return norm"
   ]
  },
  {
   "cell_type": "code",
   "execution_count": 44,
   "metadata": {
    "collapsed": false
   },
   "outputs": [
    {
     "data": {
      "text/plain": [
       "array(1.2607640027999878, dtype=float32)"
      ]
     },
     "execution_count": 44,
     "metadata": {},
     "output_type": "execute_result"
    }
   ],
   "source": [
    "get_Norm_C(dx,dy,PSI_gpu).get()"
   ]
  },
  {
   "cell_type": "code",
   "execution_count": 45,
   "metadata": {
    "collapsed": false
   },
   "outputs": [
    {
     "data": {
      "text/plain": [
       "0.89060088163946172"
      ]
     },
     "execution_count": 45,
     "metadata": {},
     "output_type": "execute_result"
    }
   ],
   "source": [
    "normalizeGPU(PSI_gpu)"
   ]
  },
  {
   "cell_type": "code",
   "execution_count": 46,
   "metadata": {
    "collapsed": false
   },
   "outputs": [
    {
     "data": {
      "text/plain": [
       "1.0"
      ]
     },
     "execution_count": 46,
     "metadata": {},
     "output_type": "execute_result"
    }
   ],
   "source": [
    "normalizeGPU(PSI_gpu)"
   ]
  },
  {
   "cell_type": "markdown",
   "metadata": {},
   "source": [
    "## $$A_{i,j}=\\tilde{v}_{i,j}+g_{2D}|\\Psi_{i,j}^\\tau|^2$$ $$\\alpha = 0.5(max(A)+min(A))$$\n",
    "[Ref1](http://dx.doi.org/10i,j.1016/j.cpc.2008.12.003) "
   ]
  },
  {
   "cell_type": "code",
   "execution_count": 47,
   "metadata": {
    "collapsed": true
   },
   "outputs": [],
   "source": [
    "getAlphas.prepared_call(gridDims, blockDims,dx,dy,\n",
    "                        x_min,y_min,\n",
    "                        gammaX,gammaY,g,\n",
    "                        PSI_gpu.gpudata,PSIaux_gpu.gpudata)"
   ]
  },
  {
   "cell_type": "code",
   "execution_count": 48,
   "metadata": {
    "collapsed": true
   },
   "outputs": [],
   "source": [
    "a = 0.5*(gpuarray.max(PSIaux_gpu.real).get()+gpuarray.max(PSIaux_gpu.imag).get())"
   ]
  },
  {
   "cell_type": "markdown",
   "metadata": {},
   "source": [
    "## **QUIZ: Calculate $\\mu$ or $|\\Psi^\\tau-\\Psi^{\\tau+1}|$ to ensure convergence**"
   ]
  },
  {
   "cell_type": "code",
   "execution_count": 64,
   "metadata": {
    "collapsed": true
   },
   "outputs": [],
   "source": [
    "nit = 10000\n",
    "for i in range(nit):\n",
    "    gpuFFT.execute(PSI_gpu,PSIaux_gpu)\n",
    "    step1.prepared_call(gridDims, blockDims,x_min,y_min, \n",
    "                    dx,dy,a,gammaX,gammaY,\n",
    "                    g,PSI_gpu.gpudata)\n",
    "    gpuFFT.execute(PSI_gpu)\n",
    "    step2.prepared_call(gridDims, blockDims, dtau, a, Nx, Ny, Lx,Ly,\n",
    "                    PSIaux_gpu.gpudata, PSI_gpu.gpudata)\n",
    "    gpuFFT.execute(PSIaux_gpu,PSI_gpu,inverse=True)\n",
    "    normalizeGPU(PSI_gpu)\n",
    "    getAlphas.prepared_call(gridDims, blockDims,dx,dy,\n",
    "                        x_min,y_min,\n",
    "                        gammaX,gammaY,g,\n",
    "                        PSI_gpu.gpudata,PSIaux_gpu.gpudata)\n",
    "    a = 0.5*(gpuarray.max(PSIaux_gpu.real).get()+gpuarray.max(PSIaux_gpu.imag).get())\n",
    "    #print a"
   ]
  },
  {
   "cell_type": "code",
   "execution_count": 65,
   "metadata": {
    "collapsed": false
   },
   "outputs": [
    {
     "data": {
      "image/png": "[encoded data removed]",
      "text/plain": [
       "<matplotlib.figure.Figure at 0x7fc338b11d50>"
      ]
     },
     "metadata": {},
     "output_type": "display_data"
    }
   ],
   "source": [
    "plotState(abs(PSI_gpu.get())**2)"
   ]
  },
  {
   "cell_type": "markdown",
   "metadata": {},
   "source": [
    "## PLUS: Split operator in PyCUDA"
   ]
  },
  {
   "cell_type": "markdown",
   "metadata": {},
   "source": [
    ">Se basa en el hecho de tener una ecuacion de tipo:\n",
    "\n",
    "$$\\partial_t \\Psi = \\hat{\\mathcal{L}}\\Psi + \\hat{\\mathcal{N}}(\\Psi,t)\\Psi$$\n",
    "\n",
    ">con $\\mathcal{L}$ un operado lineal y $\\mathcal{N}$ uno no-lineal (ambos acotados en algun sentido). La solucion general es:\n",
    "\n",
    "$$ \\Psi(t)=e^{t(\\mathcal{L}+\\mathcal{N})}\\Psi(t_0) $$\n",
    "\n",
    ">Cuando el sistema es facilmente integrable por separado, ie. \n",
    "$$\\partial_t \\Psi = \\hat{\\mathcal{L}}\\Psi \\rightarrow \\Psi(r,t_0+t) = e^{t\\hat{\\mathcal{L}}}\\Psi(r,t_0)$$\n",
    "$$\\partial_t \\Psi = \\hat{\\mathcal{N}}(\\Psi,t)\\Psi \\rightarrow \\Psi(r,t_0+t) = e^{\\int_0^tdt'\\hat{\\mathcal{N}}(\\Psi,t')}\\Psi(r,t_0)$$\n",
    "\n",
    ">Se puede realizar una aproximacion de la solucion (a $\\delta t$) en termino de las soluciones anteriores, mediante la adecuada aplicacion de los operadores por separado, es decir:\n",
    "\n",
    "$$\\displaystyle e^{\\delta t(\\mathcal{L}+\\mathcal{N})} \\approx \\prod_{s=1}^{k} e^{a_s\\delta t \\mathcal{L}}e^{b_s\\delta t\\mathcal{N}} $$\n"
   ]
  },
  {
   "cell_type": "markdown",
   "metadata": {},
   "source": [
    "en general el numero de composiicones determina la complejidad del metodo y el orden $p$ del metodo (ie el error es de tamaño $(\\delta t)^p$). Ejemplos de algoritmos son:\n",
    "\n",
    "> - **Orden lieneal** $p=1$ (Lie-Trotter)\n",
    "$$ \\Psi(\\delta t)=e^{\\delta t \\mathcal{L}}e^{\\delta t\\mathcal{N}}\\Psi_0 $$ o $$ \\Psi(\\delta t)=e^{\\delta t\\mathcal{N}}e^{\\delta t \\mathcal{L}}\\Psi_0 $$ y $\\Psi_0 = \\Psi(t_0)$ la condicion inicial\n",
    "\n",
    "> - **Segundo orden** $p=2$ (Strang)\n",
    "$$ \\Psi(\\delta t)=e^{\\delta t \\mathcal{L}/2}e^{\\delta t\\mathcal{N}}e^{\\delta t \\mathcal{L}/2}\\Psi_0 \\equiv \\hat{U}(\\delta t)_{p=2}\\Psi_0$$ o $$ \\Psi(\\delta t)=e^{\\delta t \\mathcal{N}/2}e^{\\delta t\\mathcal{L}}e^{\\delta t \\mathcal{N}/2}\\Psi_0 $$ \n",
    "\n",
    "> - **Cuarto orden** $p=4$ \n",
    "$$ \\Psi(\\delta t)=\\hat{U}(\\omega\\delta t)_{p=2}\\hat{U}((1-2\\omega)\\delta t)_{p=2}\\hat{U}(\\omega\\delta t)_{p=2}\\Psi_0 \\\\ = e^{\\omega\\delta t \\mathcal{N}/2}e^{\\omega\\delta t\\mathcal{L}}\\, e^{(1-\\omega)\\delta t \\mathcal{N}/2}e^{(1-2\\omega)\\delta t\\mathcal{L}}e^{(1-\\omega)\\delta t \\mathcal{N}/2} \\, e^{\\omega\\delta t\\mathcal{L}}e^{\\omega\\delta t \\mathcal{N}/2}  \\\\ = e^{\\omega\\delta t \\mathcal{L}/2}e^{\\omega\\delta t\\mathcal{N}}\\, e^{(1-\\omega)\\delta t \\mathcal{L}/2}e^{(1-2\\omega)\\delta t\\mathcal{N}}e^{(1-\\omega)\\delta t \\mathcal{L}/2} \\, e^{\\omega\\delta t\\mathcal{N}}e^{\\omega\\delta t \\mathcal{L}/2},$$ $\\omega = \\frac{2+2^{1/3}+2^{-1/3}}{3}$\n",
    "\n",
    "\n",
    "notemos que todos lo metodos son simetricos ante el intercambio de $\\mathcal{N}$ y $\\mathcal{L}$"
   ]
  },
  {
   "cell_type": "markdown",
   "metadata": {},
   "source": [
    "Consideremos el caso de orden $p=2$"
   ]
  },
  {
   "cell_type": "markdown",
   "metadata": {},
   "source": [
    "### $$ \\Psi(\\delta t)=e^{\\delta t \\frac{1}{4}\\nabla^2}e^{-\\delta t(v+g|\\Psi|^2)}e^{\\delta t \\frac{1}{4}\\nabla^2}\\Psi_0 \\equiv \\hat{U}(\\delta t)_{p=2}\\Psi_0$$"
   ]
  },
  {
   "cell_type": "code",
   "execution_count": 57,
   "metadata": {
    "collapsed": false
   },
   "outputs": [],
   "source": [
    "initGPU.prepared_call(gridDims, blockDims,\n",
    "                      prec(dx),prec(dy),\n",
    "                     prec(x_min),prec(y_min),\n",
    "                     prec(gammaX),prec(gammaY),\n",
    "                     real_gpu.gpudata,imag_gpu.gpudata,PSI_gpu.gpudata)"
   ]
  },
  {
   "cell_type": "code",
   "execution_count": 58,
   "metadata": {
    "collapsed": true
   },
   "outputs": [],
   "source": [
    "stepStrangL = '''\n",
    "      #include <pycuda-complex.hpp>\n",
    "      #define pi 3.14159265\n",
    "      __device__ cudaPres KspaceFFT(int tid, int nPoint, cudaPres L){\n",
    "      cudaPres Kfft;\n",
    "      if (tid < nPoint/2){\n",
    "          Kfft = 2.0f*pi*(tid)/L;\n",
    "      }\n",
    "      else {\n",
    "          Kfft = 2.0f*pi*(tid-nPoint)/L;\n",
    "      }\n",
    "      return Kfft;\n",
    "      }\n",
    "      \n",
    "      __global__ void strangL_kernel( int nx, int ny,\n",
    "      cudaPres dtau,\n",
    "      cudaPres Lx, cudaPres Ly,\n",
    "      pycuda::complex<cudaPres> *fftpsi){\n",
    "      // Index for thread\n",
    "      int t_i = blockIdx.x*blockDim.x + threadIdx.x;\n",
    "      int t_j = blockIdx.y*blockDim.y + threadIdx.y;\n",
    "      int tid = gridDim.y * blockDim.y * t_i  + t_j;\n",
    "      // Indices to coordinates\n",
    "      cudaPres kx = KspaceFFT( t_i,  nx,  Lx);\n",
    "      cudaPres ky = KspaceFFT( t_j,  ny,  Ly);\n",
    "\n",
    "      fftpsi[tid] *= exp(-dtau*0.25cString*(kx*kx+ky*ky));\n",
    "      \n",
    "      }\n",
    "'''"
   ]
  },
  {
   "cell_type": "code",
   "execution_count": 59,
   "metadata": {
    "collapsed": true
   },
   "outputs": [],
   "source": [
    "stepStrangNL = '''\n",
    "      #include <pycuda-complex.hpp>\n",
    "      \n",
    "      __global__ void strangNL_kernel(cudaPres dtau, cudaPres gNonLinear,\n",
    "      cudaPres dx, cudaPres dy,\n",
    "      cudaPres xMin, cudaPres yMin,\n",
    "      cudaPres gammaX, cudaPres gammaY,\n",
    "      pycuda::complex<cudaPres> *psi){\n",
    "      // Index for thread\n",
    "      int t_i = blockIdx.x*blockDim.x + threadIdx.x;\n",
    "      int t_j = blockIdx.y*blockDim.y + threadIdx.y;\n",
    "      int tid = gridDim.y * blockDim.y * t_i  + t_j;\n",
    "      // Indices to coordinates\n",
    "      cudaPres x = t_i*dx + xMin;\n",
    "      cudaPres y = t_j*dy + yMin;\n",
    "      pycuda::complex<cudaPres> auxC=psi[tid];\n",
    "      auxC = x*x*gammaX*gammaX+y*y*gammaY*gammaY+gNonLinear*abs(auxC)*abs(auxC);\n",
    "      psi[tid] *= exp(-dtau*auxC._M_re);\n",
    "      \n",
    "      }\n",
    "'''"
   ]
  },
  {
   "cell_type": "code",
   "execution_count": 60,
   "metadata": {
    "collapsed": true
   },
   "outputs": [],
   "source": [
    "strangL = compileGPU(stepStrangL)\n",
    "strangLinear = strangL.get_function('strangL_kernel')\n",
    "strangNL = compileGPU(stepStrangNL)\n",
    "strangNLinear = strangNL.get_function('strangNL_kernel')"
   ]
  },
  {
   "cell_type": "code",
   "execution_count": 61,
   "metadata": {
    "collapsed": false
   },
   "outputs": [
    {
     "data": {
      "text/plain": [
       "<pycuda._driver.Function at 0x7fc338cbce60>"
      ]
     },
     "execution_count": 61,
     "metadata": {},
     "output_type": "execute_result"
    }
   ],
   "source": [
    "strangLinear.prepare('iifffP')\n",
    "strangNLinear.prepare('ffffffffP')"
   ]
  },
  {
   "cell_type": "code",
   "execution_count": 68,
   "metadata": {
    "collapsed": true
   },
   "outputs": [],
   "source": [
    "iterations = 1000\n",
    "for i in range(iterations):\n",
    "    gpuFFT.execute(PSI_gpu)\n",
    "    strangLinear.prepared_call(gridDims, blockDims,\n",
    "                           int32(Nx),int32(Ny),\n",
    "                           prec(dtau),prec(Lx),prec(Ly),\n",
    "                           PSI_gpu.gpudata)\n",
    "    gpuFFT.execute(PSI_gpu, inverse=True)\n",
    "    strangNLinear.prepared_call(gridDims, blockDims,\n",
    "                           prec(dtau),prec(g),\n",
    "                           prec(dx),prec(dy),\n",
    "                           prec(x_min),prec(y_min),\n",
    "                           prec(gammaX),prec(gammaY),\n",
    "                           PSI_gpu.gpudata)\n",
    "    gpuFFT.execute(PSI_gpu)\n",
    "    strangLinear.prepared_call(gridDims, blockDims,\n",
    "                           int32(Nx),int32(Ny),\n",
    "                           prec(dtau),prec(Lx),prec(Ly),\n",
    "                           PSI_gpu.gpudata)\n",
    "    gpuFFT.execute(PSI_gpu, inverse=True)\n",
    "    norma = get_Norm_C(prec(dx),prec(dy),PSI_gpu).get()\n",
    "    #print norma \n",
    "    inv = 1/sqrt(norma)\n",
    "    mult_C(inv,PSI_gpu)"
   ]
  },
  {
   "cell_type": "code",
   "execution_count": 69,
   "metadata": {
    "collapsed": false
   },
   "outputs": [
    {
     "data": {
      "image/png": "[encoded data removed]",
      "text/plain": [
       "<matplotlib.figure.Figure at 0x7fc338acd490>"
      ]
     },
     "metadata": {},
     "output_type": "display_data"
    }
   ],
   "source": [
    "plotState(abs(PSI_gpu.get())**2)"
   ]
  },
  {
   "cell_type": "markdown",
   "metadata": {},
   "source": [
    "## **QUIZ: which method converge faster?, which is faster?, which is most favorable in memory spend? is the same result?**"
   ]
  },
  {
   "cell_type": "code",
   "execution_count": null,
   "metadata": {
    "collapsed": true
   },
   "outputs": [],
   "source": []
  }
 ],
 "metadata": {
  "kernelspec": {
   "display_name": "Python 2",
   "language": "python",
   "name": "python2"
  },
  "language_info": {
   "codemirror_mode": {
    "name": "ipython",
    "version": 2
   },
   "file_extension": ".py",
   "mimetype": "text/x-python",
   "name": "python",
   "nbconvert_exporter": "python",
   "pygments_lexer": "ipython2",
   "version": "2.7.6"
  }
 },
 "nbformat": 4,
 "nbformat_minor": 2
}
